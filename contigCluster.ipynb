{
 "cells": [
  {
   "cell_type": "markdown",
   "metadata": {},
   "source": [
    "#About\n",
    "In this notebook, we process the ```.psl```-files of blat. We have allready processed these files, keeping only the best match for each contigs."
   ]
  },
  {
   "cell_type": "code",
   "execution_count": 1,
   "metadata": {
    "collapsed": false
   },
   "outputs": [],
   "source": [
    "import os, re"
   ]
  },
  {
   "cell_type": "markdown",
   "metadata": {},
   "source": [
    "Make list of substrain that are within one strain. These PSL-files will be ignored."
   ]
  },
  {
   "cell_type": "code",
   "execution_count": 2,
   "metadata": {
    "collapsed": false,
    "scrolled": true
   },
   "outputs": [
    {
     "name": "stdout",
     "output_type": "stream",
     "text": [
      "100000\n",
      "200000\n",
      "300000\n",
      "400000\n",
      "500000\n",
      "600000\n",
      "700000\n",
      "800000\n",
      "900000\n",
      "1000000\n",
      "1100000\n",
      "1200000\n"
     ]
    }
   ],
   "source": [
    "f = open('/Users/robin/MEGA/Work/Hubrecht/Unmapped/strainSpecAnalysis/500plus/commonMouseDNA.psl','r')\n",
    "seenContigs = set([])  # all contigs allready stored in a key and/or value\n",
    "dikt = {} # key = q-name, val = set of t-names\n",
    "linecounter = 0\n",
    "for line in f:\n",
    "    linecounter += 1\n",
    "    if (linecounter % 100000) == 0:\n",
    "        print linecounter\n",
    "    fields = re.split(r'\\t+', line.rstrip())\n",
    "    match = float(fields[0])\n",
    "    qsize = float(fields[10])\n",
    "    qname = str(fields[9])\n",
    "    tname = str(fields[13])\n",
    "    if ( (match/(qsize-float(fields[3]))) > .9 ):\n",
    "        if (qname != tname):\n",
    "            if qname not in seenContigs:\n",
    "                if qname not in dikt.keys() and tname not in dikt.keys():\n",
    "                    dikt[qname] = set([])\n",
    "                    dikt[qname].add(tname)\n",
    "                elif qname in dikt.keys() and tname not in dikt.keys():\n",
    "                    dikt[qname].add(tname)\n",
    "                seenContigs.add(tname)\n",
    "f.close()"
   ]
  },
  {
   "cell_type": "code",
   "execution_count": null,
   "metadata": {
    "collapsed": false
   },
   "outputs": [],
   "source": [
    "os.system(\"rm tmp*\")\n",
    "os.system(\"rm consensus.fa\")\n",
    "clusterCount = 0\n",
    "for k,v in dikt.items():\n",
    "    clusterCount += 1\n",
    "    rat = float(clusterCount)/len(dikt)\n",
    "    if (rat % 0.01) == 0:\n",
    "        print str(rat * 100) + \"%\"\n",
    "    outfile = open('tmp.lst', 'w')\n",
    "    outfile.write(\"\\n\".join(v))\n",
    "    outfile.write(\"\\n\" + k + \"\\n\")\n",
    "    outfile.close()\n",
    "    os.system(\"~/bin/seqtk-master/seqtk subseq /Users/robin/MEGA/Work/Hubrecht/Unmapped/strainSpecAnalysis/500plus/commonMouseDNA.fa tmp.lst | sed 's/^>/>cluster_\" + str(clusterCount) + \"_/' > tmp.fa\")\n",
    "    os.system(\"~/bin/clustalo -i tmp.fa --full-iter -o tmp_clustalo --outfmt=clu --force\")\n",
    "    os.system(\"cp tmp_clustalo tmp.clustalo\")\n",
    "    os.system(\"perl ~/bin/ANDES/ClustalALN_to_PositionProfile.pl -a tmp.clustalo\")\n",
    "    os.system(\"perl ~/bin/ANDES/Profile_To_ConsensusFASTA.pl -c tmp.consensus -p tmp.clustalo\")\n",
    "    os.system(\"sed 's/^>/>cluster_\" + str(clusterCount) + \"/' tmp.consensus >> consensus.fa\")\n",
    "f.close()"
   ]
  },
  {
   "cell_type": "code",
   "execution_count": null,
   "metadata": {
    "collapsed": true
   },
   "outputs": [],
   "source": []
  }
 ],
 "metadata": {
  "kernelspec": {
   "display_name": "Python 2",
   "language": "python",
   "name": "python2"
  },
  "language_info": {
   "codemirror_mode": {
    "name": "ipython",
    "version": 2
   },
   "file_extension": ".py",
   "mimetype": "text/x-python",
   "name": "python",
   "nbconvert_exporter": "python",
   "pygments_lexer": "ipython2",
   "version": "2.7.10"
  }
 },
 "nbformat": 4,
 "nbformat_minor": 0
}
